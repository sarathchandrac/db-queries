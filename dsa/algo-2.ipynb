{
 "cells": [
  {
   "cell_type": "markdown",
   "id": "a7eb468a",
   "metadata": {},
   "source": [
    "## Reverse Words\n",
    "```\n",
    "Given a sting reverse all the words\n",
    "```"
   ]
  },
  {
   "cell_type": "code",
   "execution_count": 21,
   "id": "a0116ba7",
   "metadata": {},
   "outputs": [],
   "source": [
    "def reverse_words(input_string):\n",
    "    output_string = \"\"\n",
    "    for word in input_string.split(\" \"):\n",
    "        output_string = word + ' ' + output_string\n",
    "    return output_string"
   ]
  },
  {
   "cell_type": "code",
   "execution_count": 23,
   "id": "c88b97a6",
   "metadata": {},
   "outputs": [],
   "source": [
    "def reverse_words2(input_string):\n",
    "   \n",
    "    return \" \".join(input_string.split()[::-1])"
   ]
  },
  {
   "cell_type": "code",
   "execution_count": 41,
   "id": "84c6d932",
   "metadata": {},
   "outputs": [],
   "source": [
    "def reverse_words_no_arrays(input_string):\n",
    "    i = 0\n",
    "    spaces = [' ']\n",
    "    output_string = ''\n",
    "    word = ''\n",
    "    word_count = 0\n",
    "    while i < len(input_string):\n",
    "        \n",
    "        if input_string[i] in spaces:\n",
    "            if word_count != 0:\n",
    "                word += ' '\n",
    "            output_string = word + output_string\n",
    "            word = ''\n",
    "            word_count += 1\n",
    "        else:\n",
    "            word += input_string[i]\n",
    "\n",
    "        if i == len(input_string)-1:\n",
    "            output_string = word + ' ' + output_string\n",
    "\n",
    "            \n",
    "        i += 1\n",
    "        \n",
    "    return (output_string)\n"
   ]
  },
  {
   "cell_type": "code",
   "execution_count": 42,
   "id": "8831b3f6",
   "metadata": {},
   "outputs": [
    {
     "data": {
      "text/plain": [
       "'Best the is This'"
      ]
     },
     "execution_count": 42,
     "metadata": {},
     "output_type": "execute_result"
    }
   ],
   "source": [
    "reverse_words_no_arrays(\"This is the Best\")"
   ]
  },
  {
   "cell_type": "markdown",
   "id": "e48032f1",
   "metadata": {},
   "source": [
    "## pair sum\n",
    "```\n",
    "Array Pair sum\n",
    "Given an integer array, output all the unique pairs that sum up to a specific value k.\n",
    "pair_sum([1,3,2,2], 4)\n",
    "(1,3)\n",
    "(2,2)\n",
    "\n",
    "```"
   ]
  },
  {
   "cell_type": "code",
   "execution_count": 6,
   "id": "a7cba7bf",
   "metadata": {},
   "outputs": [],
   "source": [
    "def pair_sum(lst, k):\n",
    "    if len(lst) < 2:\n",
    "        print(\"array is too small\")\n",
    "    output = []\n",
    "    for i in lst:\n",
    "        for j in lst:\n",
    "            if i + j == k:\n",
    "                if((i,j) not in output and (j,i) not in output ):\n",
    "                    output.append((i,j))\n",
    "                    print(f\"({i},{j})\")\n",
    "    print(output)"
   ]
  },
  {
   "cell_type": "code",
   "execution_count": 17,
   "id": "2d26fc58",
   "metadata": {},
   "outputs": [],
   "source": [
    "def pair_sum1(lst, k):\n",
    "    if len(lst) < 2:\n",
    "        print(\"array is too small\")\n",
    "    output = set()\n",
    "    seen = set()\n",
    "    for i in lst:\n",
    "        t = k - i\n",
    "        if t not in seen and i not in seen:\n",
    "            print(f\"({i},{t})\")\n",
    "            seen.add(t)\n",
    "#     print(output)"
   ]
  },
  {
   "cell_type": "code",
   "execution_count": 18,
   "id": "534694df",
   "metadata": {},
   "outputs": [
    {
     "name": "stdout",
     "output_type": "stream",
     "text": [
      "(1,3)\n",
      "(2,2)\n"
     ]
    }
   ],
   "source": [
    "pair_sum1([1,3,2,2], 4)"
   ]
  }
 ],
 "metadata": {
  "kernelspec": {
   "display_name": "Python 3 (ipykernel)",
   "language": "python",
   "name": "python3"
  },
  "language_info": {
   "codemirror_mode": {
    "name": "ipython",
    "version": 3
   },
   "file_extension": ".py",
   "mimetype": "text/x-python",
   "name": "python",
   "nbconvert_exporter": "python",
   "pygments_lexer": "ipython3",
   "version": "3.10.1"
  }
 },
 "nbformat": 4,
 "nbformat_minor": 5
}
