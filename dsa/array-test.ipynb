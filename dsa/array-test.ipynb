{
 "cells": [
  {
   "cell_type": "markdown",
   "id": "9c3cd4b9",
   "metadata": {},
   "source": [
    "# Array Problems"
   ]
  },
  {
   "cell_type": "markdown",
   "id": "c81444ad",
   "metadata": {},
   "source": [
    "## Reversing an array in-place overview\n",
    "```\n",
    "The problem is that we want to reverse a T[] array in O(N) linear time complexity and we want the algorithm to be in-place as well - so no additional memory can be used!\n",
    "\n",
    "For example: input is [1,2,3,4,5] then the output is [5,4,3,2,1]\n",
    "```"
   ]
  },
  {
   "cell_type": "code",
   "execution_count": null,
   "id": "e757201a",
   "metadata": {},
   "outputs": [],
   "source": [
    "def revrest_test1(arr)"
   ]
  },
  {
   "cell_type": "code",
   "execution_count": null,
   "id": "96009960",
   "metadata": {},
   "outputs": [],
   "source": []
  }
 ],
 "metadata": {
  "kernelspec": {
   "display_name": "Python 3 (ipykernel)",
   "language": "python",
   "name": "python3"
  },
  "language_info": {
   "codemirror_mode": {
    "name": "ipython",
    "version": 3
   },
   "file_extension": ".py",
   "mimetype": "text/x-python",
   "name": "python",
   "nbconvert_exporter": "python",
   "pygments_lexer": "ipython3",
   "version": "3.10.1"
  }
 },
 "nbformat": 4,
 "nbformat_minor": 5
}
