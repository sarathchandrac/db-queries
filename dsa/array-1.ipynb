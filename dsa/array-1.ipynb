{
 "cells": [
  {
   "cell_type": "markdown",
   "id": "250b6625",
   "metadata": {},
   "source": [
    "# Array Problems"
   ]
  },
  {
   "cell_type": "markdown",
   "id": "d642bdfb",
   "metadata": {},
   "source": [
    "## Anagram problem overview"
   ]
  },
  {
   "cell_type": "markdown",
   "id": "1ed83588",
   "metadata": {},
   "source": [
    "```\n",
    "Construct an algorithm to check whether two words (or phrases) are anagrams or not!\n",
    "\n",
    "\"An anagram is a word or phrase formed by rearranging the letters of a different word or phrase, typically using all the original letters exactly once\"\n",
    "\n",
    "For example: restful and fluster\n",
    "```"
   ]
  },
  {
   "cell_type": "code",
   "execution_count": 98,
   "id": "d07442f2",
   "metadata": {},
   "outputs": [],
   "source": [
    "def is_anagram(w, w1):\n",
    "    count = {}\n",
    "    w = w.replace(' ', '').lower()\n",
    "    w1 = w1.replace(' ', '').lower()\n",
    "    for l in w:\n",
    "        if l not in count:\n",
    "            count[l] = 1\n",
    "        else:\n",
    "            count[l] += 1\n",
    "    for l in w1:\n",
    "        count[l] -= 1\n",
    "        \n",
    "    \n",
    "    for c in count.items():\n",
    "        if c[1] != 0:\n",
    "            return False\n",
    "        \n",
    "    return True"
   ]
  },
  {
   "cell_type": "code",
   "execution_count": 94,
   "id": "956e489b",
   "metadata": {},
   "outputs": [
    {
     "data": {
      "text/plain": [
       "True"
      ]
     },
     "execution_count": 94,
     "metadata": {},
     "output_type": "execute_result"
    }
   ],
   "source": [
    "is_anagram('restful', 'fluster')"
   ]
  },
  {
   "cell_type": "code",
   "execution_count": 103,
   "id": "f8ce1375",
   "metadata": {},
   "outputs": [
    {
     "data": {
      "text/plain": [
       "True"
      ]
     },
     "execution_count": 103,
     "metadata": {},
     "output_type": "execute_result"
    }
   ],
   "source": [
    "is_anagram('Neat', 'a net')"
   ]
  },
  {
   "cell_type": "code",
   "execution_count": 97,
   "id": "095685d9",
   "metadata": {},
   "outputs": [
    {
     "data": {
      "text/plain": [
       "'abcd'"
      ]
     },
     "execution_count": 97,
     "metadata": {},
     "output_type": "execute_result"
    }
   ],
   "source": [
    "str1 = 'a b c D'\n",
    "str1.replace(' ', '').lower()\n"
   ]
  },
  {
   "cell_type": "code",
   "execution_count": null,
   "id": "f590874c",
   "metadata": {},
   "outputs": [],
   "source": []
  },
  {
   "cell_type": "markdown",
   "id": "f52ef0e9",
   "metadata": {},
   "source": [
    "## Integer reversion problem overview\n",
    "```\n",
    "Our task is to design an efficient algorithm to reverse a given integer. For example if the input of the algorithm is 1234 then the output should be 4321.\n",
    "\n",
    "```"
   ]
  },
  {
   "cell_type": "code",
   "execution_count": 56,
   "id": "be1f0765",
   "metadata": {},
   "outputs": [],
   "source": [
    "def reverse_int(num):\n",
    "    return int(str(num)[::-1])"
   ]
  },
  {
   "cell_type": "code",
   "execution_count": 71,
   "id": "c7fc7f41",
   "metadata": {},
   "outputs": [],
   "source": [
    "def reverse_int1(num):\n",
    "    i = 0\n",
    "    result = 0\n",
    "    while num != 0:\n",
    "        i = num % 10\n",
    "        num = num // 10\n",
    "        result = result * 10 + i\n",
    "    return result"
   ]
  },
  {
   "cell_type": "code",
   "execution_count": 60,
   "id": "b80b7d60",
   "metadata": {},
   "outputs": [
    {
     "data": {
      "text/plain": [
       "0"
      ]
     },
     "execution_count": 60,
     "metadata": {},
     "output_type": "execute_result"
    }
   ],
   "source": [
    "6//10"
   ]
  },
  {
   "cell_type": "code",
   "execution_count": 70,
   "id": "22a1e86c",
   "metadata": {},
   "outputs": [
    {
     "data": {
      "text/plain": [
       "4321"
      ]
     },
     "execution_count": 70,
     "metadata": {},
     "output_type": "execute_result"
    }
   ],
   "source": [
    "reverse_int1(1234)"
   ]
  },
  {
   "cell_type": "code",
   "execution_count": null,
   "id": "4425a2ad",
   "metadata": {},
   "outputs": [],
   "source": []
  },
  {
   "cell_type": "markdown",
   "id": "9070039a",
   "metadata": {},
   "source": [
    "## Palindrome problem overview\n",
    "```\n",
    "\"A palindrome is a string that reads the same forward and backward\"\n",
    "\n",
    "For example: radar or madam\n",
    "\n",
    "Our task is to design an optimal algorithm for checking whether a given string is palindrome or not! \n",
    "\n",
    "```"
   ]
  },
  {
   "cell_type": "code",
   "execution_count": null,
   "id": "987a6a29",
   "metadata": {},
   "outputs": [],
   "source": []
  },
  {
   "cell_type": "code",
   "execution_count": null,
   "id": "e60f2ad8",
   "metadata": {},
   "outputs": [],
   "source": [
    "def is_palindrome_3(output_string):\n",
    "    return output_string == output_string[::-1]"
   ]
  },
  {
   "cell_type": "code",
   "execution_count": 50,
   "id": "f3330792",
   "metadata": {},
   "outputs": [],
   "source": [
    "def is_palindrome_2(output_string):\n",
    "    return output_string == output_string[::-1]"
   ]
  },
  {
   "cell_type": "code",
   "execution_count": 48,
   "id": "6b25fcad",
   "metadata": {},
   "outputs": [],
   "source": [
    "def is_palindrome_1(output_string):\n",
    "    i = 0\n",
    "    max = int ((len(output_string) -1) /2)\n",
    "    while i <= max:\n",
    "        k = len(output_string) -1 - i\n",
    "        if output_string[i] != output_string[k]:\n",
    "            return False\n",
    "        i += 1\n",
    "    return True"
   ]
  },
  {
   "cell_type": "code",
   "execution_count": null,
   "id": "00c7488b",
   "metadata": {},
   "outputs": [],
   "source": []
  },
  {
   "cell_type": "code",
   "execution_count": null,
   "id": "6d8567e9",
   "metadata": {},
   "outputs": [],
   "source": []
  },
  {
   "cell_type": "code",
   "execution_count": 51,
   "id": "211d9a21",
   "metadata": {},
   "outputs": [
    {
     "data": {
      "text/plain": [
       "True"
      ]
     },
     "execution_count": 51,
     "metadata": {},
     "output_type": "execute_result"
    }
   ],
   "source": [
    "is_palindrome_2('radar')"
   ]
  },
  {
   "cell_type": "code",
   "execution_count": null,
   "id": "bfa8766b",
   "metadata": {},
   "outputs": [],
   "source": []
  },
  {
   "cell_type": "code",
   "execution_count": null,
   "id": "cc056681",
   "metadata": {},
   "outputs": [],
   "source": []
  },
  {
   "cell_type": "code",
   "execution_count": null,
   "id": "da0453b3",
   "metadata": {},
   "outputs": [],
   "source": []
  },
  {
   "cell_type": "markdown",
   "id": "a12d7d57",
   "metadata": {},
   "source": [
    "## Reversing an array in-place overview\n",
    "```\n",
    "The problem is that we want to reverse a T[] array in O(N) linear time complexity and we want the algorithm to be in-place as well - so no additional memory can be used!\n",
    "\n",
    "For example: input is [1,2,3,4,5] then the output is [5,4,3,2,1]\n",
    "```"
   ]
  },
  {
   "cell_type": "code",
   "execution_count": 31,
   "id": "d1c56f00",
   "metadata": {},
   "outputs": [],
   "source": [
    "def revtest_3(arr):\n",
    "    i = 0\n",
    "    l = len(arr) -1\n",
    "\n",
    "    while i < l:\n",
    "        arr[i], arr[l] = arr[l], arr[i]\n",
    "        i+=1\n",
    "        l-=1\n",
    "    \n",
    "    return arr"
   ]
  },
  {
   "cell_type": "code",
   "execution_count": null,
   "id": "131925c1",
   "metadata": {},
   "outputs": [],
   "source": [
    "def revtest_2(arr):\n",
    "    i = 0\n",
    "    l = len(arr) -1\n",
    "    max = int(l/2)\n",
    "    while i <= max:\n",
    "        k = l -i\n",
    "        if k != i:\n",
    "            s = arr[i]\n",
    "            arr[i] = arr[k]\n",
    "            arr[k]  = s\n",
    "            print('notes', i, k, s, arr)\n",
    "        i+=1\n",
    "    \n",
    "    return arr"
   ]
  },
  {
   "cell_type": "code",
   "execution_count": 7,
   "id": "8606567a",
   "metadata": {},
   "outputs": [],
   "source": [
    "def revrse_test1(arr):\n",
    "    result = []\n",
    "    i = len(arr)\n",
    "    while i > 0:\n",
    "        result.append(arr[i-1])\n",
    "        i-=1\n",
    "        \n",
    "    return result"
   ]
  },
  {
   "cell_type": "code",
   "execution_count": 32,
   "id": "77783043",
   "metadata": {},
   "outputs": [
    {
     "data": {
      "text/plain": [
       "[5, 4, 3, 2, 1]"
      ]
     },
     "execution_count": 32,
     "metadata": {},
     "output_type": "execute_result"
    }
   ],
   "source": [
    "arr = [1,2,3,4,5]\n",
    "revtest_3(arr)"
   ]
  },
  {
   "cell_type": "code",
   "execution_count": 25,
   "id": "4e1e990f",
   "metadata": {},
   "outputs": [
    {
     "name": "stdout",
     "output_type": "stream",
     "text": [
      "2\n"
     ]
    }
   ],
   "source": [
    "print(int(5/2))"
   ]
  }
 ],
 "metadata": {
  "kernelspec": {
   "display_name": "Python 3 (ipykernel)",
   "language": "python",
   "name": "python3"
  },
  "language_info": {
   "codemirror_mode": {
    "name": "ipython",
    "version": 3
   },
   "file_extension": ".py",
   "mimetype": "text/x-python",
   "name": "python",
   "nbconvert_exporter": "python",
   "pygments_lexer": "ipython3",
   "version": "3.10.1"
  }
 },
 "nbformat": 4,
 "nbformat_minor": 5
}
