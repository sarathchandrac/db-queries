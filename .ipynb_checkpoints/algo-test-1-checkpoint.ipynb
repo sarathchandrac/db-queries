{
 "cells": [
  {
   "cell_type": "code",
   "execution_count": 15,
   "id": "5285c282",
   "metadata": {},
   "outputs": [],
   "source": [
    "def sum1(n):\n",
    "    '''Take the input of n and return the sum of the numbers from 0 to n'''\n",
    "\n",
    "    return n*(n+1)/2\n",
    "\n",
    "def sum2(n):\n",
    "    '''Take the input of n and return the sum of the numbers from 0 to n using iterative strategy'''\n",
    "    result = 0\n",
    "    for i in range(n+1):\n",
    "        result += i\n",
    "    return result\n",
    "        \n",
    "        \n",
    "\n",
    "    "
   ]
  },
  {
   "cell_type": "code",
   "execution_count": 14,
   "id": "aa40dc3b",
   "metadata": {},
   "outputs": [
    {
     "data": {
      "text/plain": [
       "10"
      ]
     },
     "execution_count": 14,
     "metadata": {},
     "output_type": "execute_result"
    }
   ],
   "source": [
    "sum2(4)"
   ]
  }
 ],
 "metadata": {
  "kernelspec": {
   "display_name": "Python 3 (ipykernel)",
   "language": "python",
   "name": "python3"
  },
  "language_info": {
   "codemirror_mode": {
    "name": "ipython",
    "version": 3
   },
   "file_extension": ".py",
   "mimetype": "text/x-python",
   "name": "python",
   "nbconvert_exporter": "python",
   "pygments_lexer": "ipython3",
   "version": "3.10.1"
  }
 },
 "nbformat": 4,
 "nbformat_minor": 5
}
