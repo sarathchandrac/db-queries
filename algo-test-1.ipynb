{
 "cells": [
  {
   "cell_type": "code",
   "execution_count": 15,
   "id": "bd2e1048",
   "metadata": {},
   "outputs": [],
   "source": [
    "def sum1(n):\n",
    "    '''Take the input of n and return the sum of the numbers from 0 to n'''\n",
    "\n",
    "    return n*(n+1)/2\n",
    "\n",
    "def sum2(n):\n",
    "    '''Take the input of n and return the sum of the numbers from 0 to n using iterative strategy'''\n",
    "    result = 0\n",
    "    for i in range(n+1):\n",
    "        result += i\n",
    "    return result\n",
    "        \n",
    "        \n",
    "\n",
    "    "
   ]
  },
  {
   "cell_type": "markdown",
   "id": "c0ef3ebd",
   "metadata": {},
   "source": [
    "- memory space\n",
    "- time to run"
   ]
  },
  {
   "cell_type": "code",
   "execution_count": 18,
   "id": "5fb4bd2d",
   "metadata": {},
   "outputs": [
    {
     "name": "stdout",
     "output_type": "stream",
     "text": [
      "335 ns ± 31.5 ns per loop (mean ± std. dev. of 7 runs, 1,000,000 loops each)\n"
     ]
    }
   ],
   "source": [
    "%timeit sum1(100)"
   ]
  },
  {
   "cell_type": "code",
   "execution_count": 19,
   "id": "d9308c79",
   "metadata": {},
   "outputs": [
    {
     "name": "stdout",
     "output_type": "stream",
     "text": [
      "11.7 µs ± 4.58 µs per loop (mean ± std. dev. of 7 runs, 100,000 loops each)\n"
     ]
    }
   ],
   "source": [
    "%timeit sum2(100)"
   ]
  },
  {
   "cell_type": "markdown",
   "id": "9f7c52d0",
   "metadata": {},
   "source": [
    "- sum2 will takes O(n)\n",
    "- sum1 will takes O(1)"
   ]
  },
  {
   "cell_type": "markdown",
   "id": "60a6f132",
   "metadata": {},
   "source": [
    "# Big O Examples\n",
    "## O(1) Constant"
   ]
  },
  {
   "cell_type": "code",
   "execution_count": 21,
   "id": "af15e0e3",
   "metadata": {},
   "outputs": [
    {
     "name": "stdout",
     "output_type": "stream",
     "text": [
      "1\n"
     ]
    }
   ],
   "source": [
    "def func_constant(values):\n",
    "    '''\n",
    "    Prints first item in a list of values\n",
    "    '''\n",
    "    print(values[0])\n",
    "func_constant([1,2,3])"
   ]
  },
  {
   "cell_type": "markdown",
   "id": "e0065ded",
   "metadata": {},
   "source": [
    "## O(n) Linear"
   ]
  },
  {
   "cell_type": "code",
   "execution_count": 24,
   "id": "8a43702d",
   "metadata": {},
   "outputs": [],
   "source": [
    "def func_lin(lst):\n",
    "    '''\n",
    "    Takes in list and prints out all values\n",
    "    '''\n",
    "    for val in lst:\n",
    "        print(val)\n",
    "func_lin([1,2,3])     "
   ]
  },
  {
   "cell_type": "markdown",
   "id": "5bd6435e",
   "metadata": {},
   "source": [
    "## O(n^2) Quadratic "
   ]
  },
  {
   "cell_type": "code",
   "execution_count": 26,
   "id": "74d4a33f",
   "metadata": {},
   "outputs": [],
   "source": [
    "def fun_quad(lst):\n",
    "    '''\n",
    "    Prints pairs for each item in the list\n",
    "    '''\n",
    "    for item_1 in lst:\n",
    "        for item_2 in lst:\n",
    "            print(item_1, item_2)\n",
    "fun_quad([1,2])"
   ]
  },
  {
   "cell_type": "markdown",
   "id": "88a02feb",
   "metadata": {},
   "source": [
    "## Space Complexity\n",
    "* how much memory/space an algorithm uses.\n",
    "* space complexity check the size of allocation of memory"
   ]
  },
  {
   "cell_type": "code",
   "execution_count": 27,
   "id": "d67e546a",
   "metadata": {},
   "outputs": [],
   "source": [
    "def memory(n=10):\n",
    "    '''\n",
    "    Prints \"hello world!\" n times\n",
    "    '''\n",
    "    for x in range(n): # Time Complexity O(n)\n",
    "        print('Memory! ') # Space complexity O(1) as it only need to story string \"Memory! \" for printing output\n",
    "# memory(10)"
   ]
  },
  {
   "cell_type": "markdown",
   "id": "1578baca",
   "metadata": {},
   "source": [
    "## Array Sequences\n",
    "- LIST[]\n",
    "- TUPPLE(,)\n",
    "- STRING (\"\") **All Support Indexing"
   ]
  }
 ],
 "metadata": {
  "kernelspec": {
   "display_name": "Python 3 (ipykernel)",
   "language": "python",
   "name": "python3"
  },
  "language_info": {
   "codemirror_mode": {
    "name": "ipython",
    "version": 3
   },
   "file_extension": ".py",
   "mimetype": "text/x-python",
   "name": "python",
   "nbconvert_exporter": "python",
   "pygments_lexer": "ipython3",
   "version": "3.10.1"
  }
 },
 "nbformat": 4,
 "nbformat_minor": 5
}
