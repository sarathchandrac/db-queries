{
 "cells": [
  {
   "cell_type": "code",
   "execution_count": 25,
   "id": "4d1b1d1c",
   "metadata": {},
   "outputs": [
    {
     "data": {
      "text/plain": [
       "'Person'"
      ]
     },
     "execution_count": 25,
     "metadata": {},
     "output_type": "execute_result"
    }
   ],
   "source": [
    "# Class Attributes\n",
    "class Person:\n",
    "    pass\n",
    "Person.__name__"
   ]
  },
  {
   "cell_type": "code",
   "execution_count": 26,
   "id": "45d78dd2",
   "metadata": {},
   "outputs": [
    {
     "data": {
      "text/plain": [
       "'Program'"
      ]
     },
     "execution_count": 26,
     "metadata": {},
     "output_type": "execute_result"
    }
   ],
   "source": [
    "class Program:\n",
    "    language = 'Python'\n",
    "    version = '3.7'\n",
    "type(Program) # type\n",
    "Program.__name__ # Program\n"
   ]
  },
  {
   "cell_type": "markdown",
   "id": "333dfd1d",
   "metadata": {},
   "source": [
    "# Setting an Attribute Value to a Callable"
   ]
  },
  {
   "cell_type": "code",
   "execution_count": 27,
   "id": "eaa470b4",
   "metadata": {},
   "outputs": [],
   "source": [
    "class MyClass:\n",
    "    language = 'Python'\n",
    "    \n",
    "    def say_hello():\n",
    "        print('Hello World!')"
   ]
  },
  {
   "cell_type": "code",
   "execution_count": 28,
   "id": "57f8d027",
   "metadata": {},
   "outputs": [
    {
     "data": {
      "text/plain": [
       "<function __main__.MyClass.say_hello()>"
      ]
     },
     "execution_count": 28,
     "metadata": {},
     "output_type": "execute_result"
    }
   ],
   "source": [
    "MyClass.__dict__['say_hello']"
   ]
  },
  {
   "cell_type": "code",
   "execution_count": 29,
   "id": "35d53809",
   "metadata": {},
   "outputs": [
    {
     "name": "stdout",
     "output_type": "stream",
     "text": [
      "Hello World!\n",
      "Hello World!\n",
      "Hello World!\n"
     ]
    }
   ],
   "source": [
    "# How to call the callable attribute\n",
    "MyClass.__dict__['say_hello']()\n",
    "getattr(MyClass, 'say_hello')()\n",
    "MyClass.say_hello()"
   ]
  },
  {
   "cell_type": "markdown",
   "id": "346965a9",
   "metadata": {},
   "source": [
    "# Callable Class Attributes"
   ]
  },
  {
   "cell_type": "code",
   "execution_count": null,
   "id": "020e030a",
   "metadata": {},
   "outputs": [],
   "source": [
    "class Program:\n",
    "    language = 'Python'\n",
    "    \n",
    "    def say_hello():\n",
    "        print(f'Hello from {Program.language}')"
   ]
  },
  {
   "cell_type": "markdown",
   "id": "7e2db123",
   "metadata": {},
   "source": [
    "# Classes are Callable"
   ]
  },
  {
   "cell_type": "code",
   "execution_count": 32,
   "id": "484221f4",
   "metadata": {},
   "outputs": [
    {
     "data": {
      "text/plain": [
       "{}"
      ]
     },
     "execution_count": 32,
     "metadata": {},
     "output_type": "execute_result"
    }
   ],
   "source": [
    "my_obj = MyClass()\n",
    "type(my_obj) # __main__.MyClass\n",
    "my_obj.__dict__\n"
   ]
  },
  {
   "cell_type": "code",
   "execution_count": 33,
   "id": "b3338c42",
   "metadata": {},
   "outputs": [],
   "source": [
    "class Program:\n",
    "    language = 'Python'\n",
    "    \n",
    "    def say_hello():\n",
    "        print(f\"Hello from {Program.language}\")"
   ]
  },
  {
   "cell_type": "code",
   "execution_count": 38,
   "id": "143c48cb",
   "metadata": {},
   "outputs": [
    {
     "data": {
      "text/plain": [
       "mappingproxy({'__module__': '__main__',\n",
       "              'language': 'Python',\n",
       "              'say_hello': <function __main__.Program.say_hello()>,\n",
       "              '__dict__': <attribute '__dict__' of 'Program' objects>,\n",
       "              '__weakref__': <attribute '__weakref__' of 'Program' objects>,\n",
       "              '__doc__': None})"
      ]
     },
     "execution_count": 38,
     "metadata": {},
     "output_type": "execute_result"
    }
   ],
   "source": [
    "p = Program()\n",
    "type(p) # __main__.Program\n",
    "isinstance(p, Program) # True\n",
    "p.__dict__ # {}\n",
    "Program.__dict__"
   ]
  },
  {
   "cell_type": "code",
   "execution_count": 41,
   "id": "c50846f5",
   "metadata": {},
   "outputs": [
    {
     "data": {
      "text/plain": [
       "True"
      ]
     },
     "execution_count": 41,
     "metadata": {},
     "output_type": "execute_result"
    }
   ],
   "source": [
    "p.__class__ # __main__.Program\n",
    "type(p) is p.__class__ # True"
   ]
  },
  {
   "cell_type": "code",
   "execution_count": null,
   "id": "6ae1f1cf",
   "metadata": {},
   "outputs": [],
   "source": []
  },
  {
   "cell_type": "code",
   "execution_count": 12,
   "id": "1a62712b",
   "metadata": {},
   "outputs": [],
   "source": [
    "class MyClass:\n",
    "    language = \"Python\"\n",
    "    version = '3.7'"
   ]
  },
  {
   "cell_type": "code",
   "execution_count": 19,
   "id": "cca83f7b",
   "metadata": {},
   "outputs": [
    {
     "data": {
      "text/plain": [
       "'Python'"
      ]
     },
     "execution_count": 19,
     "metadata": {},
     "output_type": "execute_result"
    }
   ],
   "source": [
    "# help(getattr)\n",
    "getattr(MyClass, 'language')\n",
    "getattr(MyClass, 'x', 'N/A')\n",
    "# dot notation\n",
    "MyClass.language\n"
   ]
  },
  {
   "cell_type": "code",
   "execution_count": 21,
   "id": "93ced062",
   "metadata": {},
   "outputs": [
    {
     "data": {
      "text/plain": [
       "'new variable assignment'"
      ]
     },
     "execution_count": 21,
     "metadata": {},
     "output_type": "execute_result"
    }
   ],
   "source": [
    "# setattr function\n",
    "setattr(MyClass, 'version', 3.75,)\n",
    "MyClass.version = 3.75\n",
    "# Python is dynamic language\n",
    "MyClass.x = 'new variable assignment'\n",
    "MyClass.x\n"
   ]
  },
  {
   "cell_type": "code",
   "execution_count": 23,
   "id": "c1f02c47",
   "metadata": {},
   "outputs": [],
   "source": [
    "# where is the state is stored\n",
    "## state is stored in a dictionary\n",
    "MyClass.__dict__\n",
    "# Mutating Attributes\n",
    "MyClass.y = 10\n",
    "# Deleting Attributes\n",
    "delattr(MyClass, 'y')\n",
    "# else us del keyword\n",
    "# del MyClass.y"
   ]
  },
  {
   "cell_type": "code",
   "execution_count": 24,
   "id": "cbe54049",
   "metadata": {},
   "outputs": [
    {
     "data": {
      "text/plain": [
       "'Python'"
      ]
     },
     "execution_count": 24,
     "metadata": {},
     "output_type": "execute_result"
    }
   ],
   "source": [
    "# Accessing Namespace Directly\n",
    "MyClass.__dict__['language'] # doesn't always works\n"
   ]
  },
  {
   "cell_type": "code",
   "execution_count": null,
   "id": "7c383ca4",
   "metadata": {},
   "outputs": [],
   "source": []
  },
  {
   "cell_type": "code",
   "execution_count": 13,
   "id": "6b0a2979",
   "metadata": {},
   "outputs": [],
   "source": [
    "class Person:\n",
    "    pass"
   ]
  },
  {
   "cell_type": "code",
   "execution_count": 4,
   "id": "e34b470b",
   "metadata": {},
   "outputs": [
    {
     "data": {
      "text/plain": [
       "'Person'"
      ]
     },
     "execution_count": 4,
     "metadata": {},
     "output_type": "execute_result"
    }
   ],
   "source": [
    "type(Person)\n",
    "Person.__name__"
   ]
  },
  {
   "cell_type": "code",
   "execution_count": 6,
   "id": "7c08dac0",
   "metadata": {},
   "outputs": [
    {
     "data": {
      "text/plain": [
       "True"
      ]
     },
     "execution_count": 6,
     "metadata": {},
     "output_type": "execute_result"
    }
   ],
   "source": [
    "p = Person()\n",
    "isinstance(p, Person)"
   ]
  },
  {
   "cell_type": "code",
   "execution_count": 10,
   "id": "f58a106c",
   "metadata": {},
   "outputs": [
    {
     "ename": "IndentationError",
     "evalue": "unexpected indent (3086808848.py, line 2)",
     "output_type": "error",
     "traceback": [
      "\u001b[1;36m  Input \u001b[1;32mIn [10]\u001b[1;36m\u001b[0m\n\u001b[1;33m    p.__class__\u001b[0m\n\u001b[1;37m    ^\u001b[0m\n\u001b[1;31mIndentationError\u001b[0m\u001b[1;31m:\u001b[0m unexpected indent\n"
     ]
    }
   ],
   "source": [
    "# help(type)\n",
    " "
   ]
  }
 ],
 "metadata": {
  "kernelspec": {
   "display_name": "Python 3 (ipykernel)",
   "language": "python",
   "name": "python3"
  },
  "language_info": {
   "codemirror_mode": {
    "name": "ipython",
    "version": 3
   },
   "file_extension": ".py",
   "mimetype": "text/x-python",
   "name": "python",
   "nbconvert_exporter": "python",
   "pygments_lexer": "ipython3",
   "version": "3.10.1"
  }
 },
 "nbformat": 4,
 "nbformat_minor": 5
}
